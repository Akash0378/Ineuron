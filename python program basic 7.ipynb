{
 "cells": [
  {
   "cell_type": "code",
   "execution_count": null,
   "metadata": {},
   "outputs": [],
   "source": [
    "1.sum of array"
   ]
  },
  {
   "cell_type": "code",
   "execution_count": 2,
   "metadata": {},
   "outputs": [
    {
     "name": "stdout",
     "output_type": "stream",
     "text": [
      "enter no of elements:3\n",
      "12\n",
      "12\n",
      "13\n",
      "37\n"
     ]
    }
   ],
   "source": [
    "arr = []\n",
    "n=int(input(\"enter no of elements:\"))\n",
    "for i in range(0,n):\n",
    "    temp = int(input())\n",
    "    arr.append(temp)\n",
    "sum=0\n",
    "for i in arr:\n",
    "    sum+=i\n",
    "print(sum)"
   ]
  },
  {
   "cell_type": "code",
   "execution_count": null,
   "metadata": {},
   "outputs": [],
   "source": [
    "2. largest element in array"
   ]
  },
  {
   "cell_type": "code",
   "execution_count": 3,
   "metadata": {},
   "outputs": [
    {
     "name": "stdout",
     "output_type": "stream",
     "text": [
      "enter no of elements:3\n",
      "30\n",
      "12\n",
      "3\n",
      "30\n"
     ]
    }
   ],
   "source": [
    "arr = []\n",
    "n=int(input(\"enter no of elements:\"))\n",
    "for i in range(0,n):\n",
    "    temp = int(input())\n",
    "    arr.append(temp)\n",
    "large = arr[0]\n",
    "for i in range(n):\n",
    "    if arr[i] >= large:\n",
    "        large = arr[i]\n",
    "print(large)"
   ]
  },
  {
   "cell_type": "code",
   "execution_count": null,
   "metadata": {},
   "outputs": [],
   "source": [
    "3. array rotation"
   ]
  },
  {
   "cell_type": "code",
   "execution_count": 5,
   "metadata": {},
   "outputs": [
    {
     "name": "stdout",
     "output_type": "stream",
     "text": [
      "enter no of elements:4\n",
      "1\n",
      "2\n",
      "3\n",
      "4\n",
      "rotation count:3\n",
      "[4, 1, 2, 3]\n"
     ]
    }
   ],
   "source": [
    "arr = []\n",
    "n=int(input(\"enter no of elements:\"))\n",
    "for i in range(0,n):\n",
    "    temp = int(input())\n",
    "    arr.append(temp)\n",
    "m = int(input(\"rotation count:\"));    \n",
    "\n",
    "for i in range(0, m):    \n",
    "    temp = arr[0];        \n",
    "    for j in range(0, len(arr)-1):    \n",
    "        arr[j] = arr[j+1];    \n",
    "    arr[len(arr)-1] = temp;  \n",
    "    \n",
    "print(arr);      "
   ]
  },
  {
   "cell_type": "code",
   "execution_count": null,
   "metadata": {},
   "outputs": [],
   "source": [
    "4. split and add first part to end"
   ]
  },
  {
   "cell_type": "code",
   "execution_count": 6,
   "metadata": {},
   "outputs": [
    {
     "name": "stdout",
     "output_type": "stream",
     "text": [
      "enter no of elements:5\n",
      "1\n",
      "2\n",
      "3\n",
      "4\n",
      "5\n",
      "enter position:3\n",
      "[4, 5, 1, 2, 3]\n"
     ]
    }
   ],
   "source": [
    "arr = []\n",
    "n=int(input(\"enter no of elements:\"))\n",
    "for i in range(0,n):\n",
    "    temp = int(input())\n",
    "    arr.append(temp)\n",
    "m = int(input(\"enter position:\"));    \n",
    "\n",
    "for i in range(0, m):    \n",
    "    temp = arr[0];        \n",
    "    for j in range(0, len(arr)-1):    \n",
    "        arr[j] = arr[j+1];    \n",
    "    arr[len(arr)-1] = temp;  \n",
    "    \n",
    "print(arr);      "
   ]
  },
  {
   "cell_type": "code",
   "execution_count": null,
   "metadata": {},
   "outputs": [],
   "source": [
    "5. check array is monotonic"
   ]
  },
  {
   "cell_type": "code",
   "execution_count": 11,
   "metadata": {},
   "outputs": [
    {
     "name": "stdout",
     "output_type": "stream",
     "text": [
      "enter no of elements:4\n",
      "1\n",
      "3\n",
      "1\n",
      "5\n",
      "not monotonic\n"
     ]
    }
   ],
   "source": [
    "arr = []\n",
    "n=int(input(\"enter no of elements:\"))\n",
    "for i in range(0,n):\n",
    "    temp = int(input())\n",
    "    arr.append(temp)\n",
    "\n",
    "temp = (all(arr[i]>=arr[i+1] for i in range(n-1))) or (all(arr[i]<=arr[i+1] for i in range(n-1)))\n",
    "if(temp):\n",
    "    print(\"monotonic\")\n",
    "else:\n",
    "    print(\"not monotonic\")"
   ]
  },
  {
   "cell_type": "code",
   "execution_count": null,
   "metadata": {},
   "outputs": [],
   "source": []
  },
  {
   "cell_type": "code",
   "execution_count": null,
   "metadata": {},
   "outputs": [],
   "source": []
  },
  {
   "cell_type": "code",
   "execution_count": null,
   "metadata": {},
   "outputs": [],
   "source": []
  },
  {
   "cell_type": "code",
   "execution_count": null,
   "metadata": {},
   "outputs": [],
   "source": []
  }
 ],
 "metadata": {
  "kernelspec": {
   "display_name": "Python 3",
   "language": "python",
   "name": "python3"
  },
  "language_info": {
   "codemirror_mode": {
    "name": "ipython",
    "version": 3
   },
   "file_extension": ".py",
   "mimetype": "text/x-python",
   "name": "python",
   "nbconvert_exporter": "python",
   "pygments_lexer": "ipython3",
   "version": "3.8.5"
  }
 },
 "nbformat": 4,
 "nbformat_minor": 4
}
