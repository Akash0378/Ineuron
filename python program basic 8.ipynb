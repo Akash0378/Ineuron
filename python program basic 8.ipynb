{
 "cells": [
  {
   "cell_type": "code",
   "execution_count": null,
   "metadata": {},
   "outputs": [],
   "source": [
    "1. Add two matrices"
   ]
  },
  {
   "cell_type": "code",
   "execution_count": 8,
   "metadata": {},
   "outputs": [
    {
     "name": "stdout",
     "output_type": "stream",
     "text": [
      "Enter the Number of rows : 3\n",
      "Enter the Number of Columns: 3\n",
      "1\n",
      "2\n",
      "3\n",
      "4\n",
      "5\n",
      "6\n",
      "7\n",
      "8\n",
      "9\n",
      "[1, 2, 3]\n",
      "[4, 5, 6]\n",
      "[7, 8, 9]\n",
      "9\n",
      "8\n",
      "7\n",
      "6\n",
      "5\n",
      "4\n",
      "3\n",
      "2\n",
      "1\n",
      "[9, 8, 7]\n",
      "[6, 5, 4]\n",
      "[3, 2, 1]\n",
      "[10, 10, 10]\n",
      "[10, 10, 10]\n",
      "[10, 10, 10]\n"
     ]
    }
   ],
   "source": [
    "rows = int(input(\"Enter the Number of rows : \" ))\n",
    "column = int(input(\"Enter the Number of Columns: \"))\n",
    "\n",
    "m1= [[int(input()) for i in range(column)] for i in range(rows)]\n",
    "for i in m1:\n",
    "    print(i)\n",
    "\n",
    "m2= [[int(input()) for i in range(column)] for i in range(rows)]\n",
    "for i in m2:\n",
    "    print(i)\n",
    "\n",
    "result=[[0 for i in range(column)] for i in range(rows)]\n",
    "\n",
    "for i in range(len(m1)):  \n",
    "    for j in range(len(m1[0])):\n",
    "        result[i][j] = m1[i][j] + m2[i][j]\n",
    "\n",
    "for i in result:\n",
    "    print(i)"
   ]
  },
  {
   "cell_type": "code",
   "execution_count": null,
   "metadata": {},
   "outputs": [],
   "source": [
    "2. multiply two matrices"
   ]
  },
  {
   "cell_type": "code",
   "execution_count": 10,
   "metadata": {},
   "outputs": [
    {
     "name": "stdout",
     "output_type": "stream",
     "text": [
      "Enter the Number of rows : 2\n",
      "Enter the Number of Columns: 2\n",
      "Enter the Number of rows : 2\n",
      "Enter the Number of Columns: 2\n",
      "2\n",
      "4\n",
      "1\n",
      "4\n",
      "[2, 4]\n",
      "[1, 4]\n",
      "1\n",
      "4\n",
      "1\n",
      "3\n",
      "[1, 4]\n",
      "[1, 3]\n",
      "[6, 20]\n",
      "[5, 16]\n"
     ]
    }
   ],
   "source": [
    "row1 = int(input(\"Enter the Number of rows : \" ))\n",
    "column1= int(input(\"Enter the Number of Columns: \"))\n",
    "\n",
    "row2 = int(input(\"Enter the Number of rows : \" ))\n",
    "column2= int(input(\"Enter the Number of Columns: \"))\n",
    "\n",
    "m1= [[int(input()) for i in range(column1)] for i in range(row1)]\n",
    "for i in m1:\n",
    "    print(i)\n",
    "\n",
    "m2= [[int(input()) for i in range(column2)] for i in range(row2)]\n",
    "for i in m2:\n",
    "    print(i)\n",
    "\n",
    "result=[[0 for i in range(column2)] for i in range(row1)]\n",
    "\n",
    "if(row1 != column2):\n",
    "    print(\"not possible\")\n",
    "else:\n",
    "    for i in range(row1):\n",
    "        for j in range(column2):\n",
    "            for k in range(row1):\n",
    "                result [i][j]+=m1[i][k]*m2[k][j]\n",
    "    for i in result:\n",
    "        print(i)\n",
    "\n"
   ]
  },
  {
   "cell_type": "code",
   "execution_count": null,
   "metadata": {},
   "outputs": [],
   "source": [
    "3. Transpose of matrix"
   ]
  },
  {
   "cell_type": "code",
   "execution_count": 11,
   "metadata": {},
   "outputs": [
    {
     "name": "stdout",
     "output_type": "stream",
     "text": [
      "Enter the Number of rows : 3\n",
      "Enter the Number of Columns: 3\n",
      "1\n",
      "2\n",
      "3\n",
      "4\n",
      "5\n",
      "6\n",
      "7\n",
      "8\n",
      "9\n",
      "[1, 2, 3]\n",
      "[4, 5, 6]\n",
      "[7, 8, 9]\n",
      "[1, 4, 7]\n",
      "[2, 5, 8]\n",
      "[3, 6, 9]\n"
     ]
    }
   ],
   "source": [
    "rows = int(input(\"Enter the Number of rows : \" ))\n",
    "columns= int(input(\"Enter the Number of Columns: \"))\n",
    "\n",
    "m1= [[int(input()) for i in range(columns)] for i in range(rows)]\n",
    "for i in m1:\n",
    "    print(i)\n",
    "m2= [[0 for i in range(columns)] for i in range(rows)]\n",
    "\n",
    "for i in range(rows):\n",
    "    for j in range(columns):\n",
    "            m2[i][j] = m1[j][i]\n",
    "for i in m2:\n",
    "    print(i)"
   ]
  },
  {
   "cell_type": "code",
   "execution_count": null,
   "metadata": {},
   "outputs": [],
   "source": [
    "4. sort words in alphabatic order"
   ]
  },
  {
   "cell_type": "code",
   "execution_count": 13,
   "metadata": {},
   "outputs": [
    {
     "name": "stdout",
     "output_type": "stream",
     "text": [
      "enter string:uday Akash latha dad mom\n",
      "Akash\n",
      "dad\n",
      "latha\n",
      "mom\n",
      "uday\n"
     ]
    }
   ],
   "source": [
    "str=input(\"enter string:\")\n",
    "x=str.split()\n",
    "x.sort()\n",
    "for i in x:\n",
    "    print(i)"
   ]
  },
  {
   "cell_type": "code",
   "execution_count": null,
   "metadata": {},
   "outputs": [],
   "source": [
    "5. remove punctuation from string"
   ]
  },
  {
   "cell_type": "code",
   "execution_count": 14,
   "metadata": {},
   "outputs": [
    {
     "name": "stdout",
     "output_type": "stream",
     "text": [
      "enter string:!Akasj$!\n",
      "Akasj\n"
     ]
    }
   ],
   "source": [
    "import re\n",
    "str=input(\"enter string:\")\n",
    "str1 = re.sub(r'[^\\w\\s]', '', str)\n",
    "print(str1)"
   ]
  },
  {
   "cell_type": "code",
   "execution_count": null,
   "metadata": {},
   "outputs": [],
   "source": []
  },
  {
   "cell_type": "code",
   "execution_count": null,
   "metadata": {},
   "outputs": [],
   "source": []
  },
  {
   "cell_type": "code",
   "execution_count": null,
   "metadata": {},
   "outputs": [],
   "source": []
  },
  {
   "cell_type": "code",
   "execution_count": null,
   "metadata": {},
   "outputs": [],
   "source": []
  },
  {
   "cell_type": "code",
   "execution_count": null,
   "metadata": {},
   "outputs": [],
   "source": []
  },
  {
   "cell_type": "code",
   "execution_count": null,
   "metadata": {},
   "outputs": [],
   "source": []
  },
  {
   "cell_type": "code",
   "execution_count": null,
   "metadata": {},
   "outputs": [],
   "source": []
  }
 ],
 "metadata": {
  "kernelspec": {
   "display_name": "Python 3",
   "language": "python",
   "name": "python3"
  },
  "language_info": {
   "codemirror_mode": {
    "name": "ipython",
    "version": 3
   },
   "file_extension": ".py",
   "mimetype": "text/x-python",
   "name": "python",
   "nbconvert_exporter": "python",
   "pygments_lexer": "ipython3",
   "version": "3.8.5"
  }
 },
 "nbformat": 4,
 "nbformat_minor": 4
}
