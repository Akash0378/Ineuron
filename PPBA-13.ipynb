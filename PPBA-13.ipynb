{
 "cells": [
  {
   "cell_type": "code",
   "execution_count": null,
   "metadata": {},
   "outputs": [],
   "source": [
    "1."
   ]
  },
  {
   "cell_type": "code",
   "execution_count": 18,
   "metadata": {},
   "outputs": [
    {
     "name": "stdout",
     "output_type": "stream",
     "text": [
      "100,150,180\n",
      "3\n",
      "18,22,24\n"
     ]
    }
   ],
   "source": [
    "a=[int(i) for i in input().split(',')]\n",
    "c,h = 50,30\n",
    "q=[]\n",
    "print(len(a))\n",
    "for i in range(len(a)):\n",
    "    temp = round((((2*c*a[i])/30))**0.5)\n",
    "    q.append(temp)\n",
    "b = [str(i) for i in q]\n",
    "x= ','.join(b)\n",
    "print(x)"
   ]
  },
  {
   "cell_type": "code",
   "execution_count": 8,
   "metadata": {},
   "outputs": [
    {
     "data": {
      "text/plain": [
       "100.0"
      ]
     },
     "execution_count": 8,
     "metadata": {},
     "output_type": "execute_result"
    }
   ],
   "source": [
    "(2*50*100)**0.5"
   ]
  },
  {
   "cell_type": "code",
   "execution_count": null,
   "metadata": {},
   "outputs": [],
   "source": [
    "2."
   ]
  },
  {
   "cell_type": "code",
   "execution_count": 25,
   "metadata": {},
   "outputs": [
    {
     "name": "stdout",
     "output_type": "stream",
     "text": [
      "enter no of rows:3\n",
      "enter no of columns:5\n",
      "[[0, 0, 0, 0, 0], [0, 1, 2, 3, 4], [0, 2, 4, 6, 8]]\n"
     ]
    }
   ],
   "source": [
    "X=int(input(\"enter no of rows:\"))\n",
    "Y=int(input(\"enter no of columns:\"))\n",
    "a=[]\n",
    "for i in range(X):\n",
    "    b=[]\n",
    "    for j in range(Y):\n",
    "        b.append(i*j)\n",
    "    a.append(b)\n",
    "print(a)"
   ]
  },
  {
   "cell_type": "code",
   "execution_count": null,
   "metadata": {},
   "outputs": [],
   "source": [
    "3."
   ]
  },
  {
   "cell_type": "code",
   "execution_count": 27,
   "metadata": {},
   "outputs": [
    {
     "name": "stdout",
     "output_type": "stream",
     "text": [
      "without,hello,bag,world\n",
      "bag,hello,without,world\n"
     ]
    }
   ],
   "source": [
    "l=input().split(',')\n",
    "l.sort()\n",
    "x=','.join(l)\n",
    "print(x)"
   ]
  },
  {
   "cell_type": "code",
   "execution_count": null,
   "metadata": {},
   "outputs": [],
   "source": [
    "4."
   ]
  },
  {
   "cell_type": "code",
   "execution_count": 33,
   "metadata": {},
   "outputs": [
    {
     "name": "stdout",
     "output_type": "stream",
     "text": [
      "hello akash and hello uday\n",
      "akash and hello uday\n"
     ]
    }
   ],
   "source": [
    "l=input().split()\n",
    "x=[]\n",
    "for i in l:\n",
    "    if (l.count(i) >=1) and (i not in x) :\n",
    "        x.append(i)\n",
    "x.sort()\n",
    "y=' '.join(x)\n",
    "print(y)"
   ]
  },
  {
   "cell_type": "code",
   "execution_count": null,
   "metadata": {},
   "outputs": [],
   "source": [
    "5."
   ]
  },
  {
   "cell_type": "code",
   "execution_count": 48,
   "metadata": {},
   "outputs": [
    {
     "name": "stdout",
     "output_type": "stream",
     "text": [
      "hello world! 123\n",
      "DIGITS 3\n",
      "LETTERS 10\n"
     ]
    }
   ],
   "source": [
    "s=input()\n",
    "x,y=0,0\n",
    "for i in s:\n",
    "   if i.isnumeric():\n",
    "        x = x+1\n",
    "   elif i.isalpha():\n",
    "        y=y+1\n",
    "print(\"DIGITS\",+x)\n",
    "print(\"LETTERS\",+y)"
   ]
  },
  {
   "cell_type": "code",
   "execution_count": null,
   "metadata": {},
   "outputs": [],
   "source": [
    "6."
   ]
  },
  {
   "cell_type": "code",
   "execution_count": 1,
   "metadata": {},
   "outputs": [
    {
     "name": "stdout",
     "output_type": "stream",
     "text": [
      "ABd1234@1,a F1#,2w3E*,2We3345\n",
      "ABd1234@1\n"
     ]
    }
   ],
   "source": [
    "import re\n",
    "l = input().split(',')\n",
    "flag = True\n",
    "l1=[]\n",
    "for i in l:\n",
    "    while flag:\n",
    "        if len(i) < 6 or len(i) > 12:\n",
    "            break\n",
    "        elif not re.search(\"[a-z]\",i):\n",
    "            break\n",
    "        elif not re.search(\"[A-Z]\",i):\n",
    "            break\n",
    "        elif not re.search(\"[0-9]\",i):\n",
    "            break\n",
    "        elif not re.search(\"[$#@]\",i):\n",
    "            break\n",
    "        elif re.search(\"\\s\",i):\n",
    "            break\n",
    "        else: \n",
    "            l1.append(i)\n",
    "            flag = False\n",
    "x=','.join(l1)\n",
    "print(x)      "
   ]
  },
  {
   "cell_type": "code",
   "execution_count": null,
   "metadata": {},
   "outputs": [],
   "source": [
    "\n"
   ]
  },
  {
   "cell_type": "code",
   "execution_count": null,
   "metadata": {},
   "outputs": [],
   "source": []
  },
  {
   "cell_type": "code",
   "execution_count": null,
   "metadata": {},
   "outputs": [],
   "source": []
  },
  {
   "cell_type": "code",
   "execution_count": null,
   "metadata": {},
   "outputs": [],
   "source": []
  },
  {
   "cell_type": "code",
   "execution_count": null,
   "metadata": {},
   "outputs": [],
   "source": []
  },
  {
   "cell_type": "code",
   "execution_count": null,
   "metadata": {},
   "outputs": [],
   "source": []
  }
 ],
 "metadata": {
  "kernelspec": {
   "display_name": "Python 3",
   "language": "python",
   "name": "python3"
  },
  "language_info": {
   "codemirror_mode": {
    "name": "ipython",
    "version": 3
   },
   "file_extension": ".py",
   "mimetype": "text/x-python",
   "name": "python",
   "nbconvert_exporter": "python",
   "pygments_lexer": "ipython3",
   "version": "3.8.5"
  }
 },
 "nbformat": 4,
 "nbformat_minor": 4
}
