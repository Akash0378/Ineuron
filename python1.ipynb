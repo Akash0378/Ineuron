{
 "cells": [
  {
   "cell_type": "markdown",
   "metadata": {},
   "source": [
    "1. In the below elements which of them are values or an expression? eg:- values can be integer or string and expressions will be mathematical operators."
   ]
  },
  {
   "cell_type": "markdown",
   "metadata": {},
   "source": [
    "1. (*) .......... expression\n",
    "2. ('hello') ..... values(string)\n",
    "3. (-87.8)  ...... values(float)\n",
    "4.  (-)  ........ expression\n",
    "5. (/) ........ expression\n",
    "6. (+)  ....... expression\n",
    "7. (6) ....... values(int)\n"
   ]
  },
  {
   "cell_type": "markdown",
   "metadata": {},
   "source": [
    "2.What is the difference between string and variable?"
   ]
  },
  {
   "cell_type": "markdown",
   "metadata": {},
   "source": [
    "String: String is basically an array of characters.\n",
    "Variable: Variables are used to store the information or data.\n",
    "    To summarise Variables are used to store the information or data. But string is one of the types of information or data we can store in a variable.\n",
    "    \n",
    "    EX: var = \"abcd\"\n",
    "    abcd - string\n",
    "    var - variable."
   ]
  },
  {
   "cell_type": "markdown",
   "metadata": {},
   "source": [
    "3. Describe three different data types."
   ]
  },
  {
   "cell_type": "markdown",
   "metadata": {},
   "source": [
    "1. Numeric: Basically numeric data type represent the data which has the numeric value. Numeric value can be integer, float or complex number.\n",
    "\n",
    "keywords: integer -> int , floating number -> float, complex numbers -> complex\n",
    "\n",
    "2. Boolean: It is the data type with two built in values. True and False.\n",
    "3. sequence type: Sequence is nothing but the collection of same or different data types.\n",
    "\n",
    "EX:\n",
    "list, tuples, string\n"
   ]
  },
  {
   "cell_type": "markdown",
   "metadata": {},
   "source": [
    "4. What is an expression made up of? What do all expressions do?"
   ]
  },
  {
   "cell_type": "markdown",
   "metadata": {},
   "source": [
    "Expressions are the combinations of variables,numbers and atleast one mathematical operators(addition,subraction etc..).\n",
    "And expression is basically an instruction that combines values and operators and evaluates down to single value always."
   ]
  },
  {
   "cell_type": "markdown",
   "metadata": {},
   "source": [
    "5. This assignment statements, like spam = 10. What is the difference between an expression and a statement?"
   ]
  },
  {
   "cell_type": "markdown",
   "metadata": {},
   "source": [
    "Expression is an instruction that combines the variables and mathematical operators and evaluates the single value always.\n",
    "Statements are nothing but a line of code that performs some action."
   ]
  },
  {
   "cell_type": "markdown",
   "metadata": {},
   "source": [
    "6. . After running the following code, what does the variable bacon contain?\n",
    "bacon = 22\n",
    "bacon + 1\n"
   ]
  },
  {
   "cell_type": "markdown",
   "metadata": {},
   "source": [
    "As we are not assinging the bacon+1 to bacon the bacon will contain 22."
   ]
  },
  {
   "cell_type": "markdown",
   "metadata": {},
   "source": [
    "7. What should the values of the following two terms be?\n",
    "'spam' + 'spamspam'\n",
    "'spam' * 3?"
   ]
  },
  {
   "cell_type": "markdown",
   "metadata": {},
   "source": [
    " 'spam' + 'spamspam' ............  gives 'spamspamspam'.\n",
    " 'spam' * 3 ..................... gives 'spamspamspam'."
   ]
  },
  {
   "cell_type": "markdown",
   "metadata": {},
   "source": [
    "8. . Why is eggs a valid variable name while 100 is invalid?"
   ]
  },
  {
   "cell_type": "markdown",
   "metadata": {},
   "source": [
    "A variable name must be symbolic. That is the reason why 100 is invalid."
   ]
  },
  {
   "cell_type": "markdown",
   "metadata": {},
   "source": [
    "9. What three functions can be used to get the integer, floating-point number, or string version of a value?\n"
   ]
  },
  {
   "cell_type": "markdown",
   "metadata": {},
   "source": [
    "integer............ int(value)\n",
    "float ................ float(value)\n",
    "string ..............  str(value)"
   ]
  },
  {
   "cell_type": "markdown",
   "metadata": {},
   "source": [
    "10. Why does this expression cause an error? How can you fix it?\n",
    "'I have eaten ' + 99 + ' burritos.'"
   ]
  },
  {
   "cell_type": "markdown",
   "metadata": {},
   "source": [
    "99 is integer. we cant concat int and string. So we can fix by giving '99' in place of 99.\n",
    "'I have eaten ' + '99' + ' burritos.'"
   ]
  },
  {
   "cell_type": "code",
   "execution_count": null,
   "metadata": {},
   "outputs": [],
   "source": []
  }
 ],
 "metadata": {
  "kernelspec": {
   "display_name": "Python 3",
   "language": "python",
   "name": "python3"
  },
  "language_info": {
   "codemirror_mode": {
    "name": "ipython",
    "version": 3
   },
   "file_extension": ".py",
   "mimetype": "text/x-python",
   "name": "python",
   "nbconvert_exporter": "python",
   "pygments_lexer": "ipython3",
   "version": "3.8.5"
  }
 },
 "nbformat": 4,
 "nbformat_minor": 4
}
