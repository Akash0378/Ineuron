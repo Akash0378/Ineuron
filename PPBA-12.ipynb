{
 "cells": [
  {
   "cell_type": "code",
   "execution_count": null,
   "metadata": {},
   "outputs": [],
   "source": [
    "1. Extract unique values"
   ]
  },
  {
   "cell_type": "code",
   "execution_count": 8,
   "metadata": {},
   "outputs": [
    {
     "name": "stdout",
     "output_type": "stream",
     "text": [
      "enter the no of elements:2\n",
      "enter key 1 :Akas\n",
      " enter value 1 :10\n",
      "enter key 2 :uasia\n",
      " enter value 2 :10\n",
      "{'Akas': 10, 'uasia': 10}\n",
      "[10]\n"
     ]
    }
   ],
   "source": [
    "n=int(input(\"enter the no of elements:\"))\n",
    "dic1 = {}\n",
    "for i in range(n):\n",
    "    key = input(\"enter key {} :\".format(i+1))\n",
    "    value = int(input(\" enter value {} :\".format(i+1)))\n",
    "    dic1.update({key:value})\n",
    "print(dic1)\n",
    "output = list(sorted({i for i in dic1.values()}))\n",
    "print(output)"
   ]
  },
  {
   "cell_type": "code",
   "execution_count": 7,
   "metadata": {},
   "outputs": [
    {
     "name": "stdout",
     "output_type": "stream",
     "text": [
      "[1, 2, 3, 4, 5, 6, 7, 8, 9]\n"
     ]
    }
   ],
   "source": [
    "dic1 = {'A' : [1, 2, 3, 4],\n",
    "             'B' : [4, 5, 6, 7],\n",
    "             'C' : [6, 7, 9 ,8]}\n",
    "\n",
    "output = list(sorted({j for i in dic1.values() for j in i})) \n",
    "print(output) "
   ]
  },
  {
   "cell_type": "code",
   "execution_count": null,
   "metadata": {},
   "outputs": [],
   "source": [
    "2. sum of all items"
   ]
  },
  {
   "cell_type": "code",
   "execution_count": 10,
   "metadata": {},
   "outputs": [
    {
     "name": "stdout",
     "output_type": "stream",
     "text": [
      "enter the no of elements:3\n",
      "enter key 1 :a\n",
      " enter value 1 :12\n",
      "enter key 2 :b\n",
      " enter value 2 :13\n",
      "enter key 3 :c\n",
      " enter value 3 :22\n",
      "{'a': 12, 'b': 13, 'c': 22}\n",
      "47\n"
     ]
    }
   ],
   "source": [
    "n=int(input(\"enter the no of elements:\"))\n",
    "dic1 = {}\n",
    "for i in range(n):\n",
    "    key = input(\"enter key {} :\".format(i+1))\n",
    "    value = int(input(\" enter value {} :\".format(i+1)))\n",
    "    dic1.update({key:value})\n",
    "print(dic1)\n",
    "l = []\n",
    "for i in dic1:\n",
    "    l.append(dic1[i])\n",
    "print(sum(l))"
   ]
  },
  {
   "cell_type": "code",
   "execution_count": null,
   "metadata": {},
   "outputs": [],
   "source": [
    "3. merge two dictionaries"
   ]
  },
  {
   "cell_type": "code",
   "execution_count": 12,
   "metadata": {},
   "outputs": [
    {
     "name": "stdout",
     "output_type": "stream",
     "text": [
      "{'a': 2, 'b': 3, 'c': 4, 'd': 5}\n"
     ]
    }
   ],
   "source": [
    "dict1 = {'a': 2, 'b': 3}\n",
    "dict2 = {'c': 4, 'd': 5}\n",
    "\n",
    "dict1.update(dict2)\n",
    "print(dict1)"
   ]
  },
  {
   "cell_type": "code",
   "execution_count": 13,
   "metadata": {},
   "outputs": [
    {
     "name": "stdout",
     "output_type": "stream",
     "text": [
      "{'a': 2, 'b': 3, 'c': 4, 'd': 5}\n"
     ]
    }
   ],
   "source": [
    "dict1 = {'a': 2, 'b': 3}\n",
    "dict2 = {'c': 4, 'd': 5}\n",
    "\n",
    "a = {**dict1, **dict2}\n",
    "print(a)"
   ]
  },
  {
   "cell_type": "code",
   "execution_count": null,
   "metadata": {},
   "outputs": [],
   "source": [
    "4. key values list to flat dictionary"
   ]
  },
  {
   "cell_type": "code",
   "execution_count": 16,
   "metadata": {},
   "outputs": [
    {
     "name": "stdout",
     "output_type": "stream",
     "text": [
      "{1: 'Akash', 2: 'uday', 3: 'mom'}\n"
     ]
    }
   ],
   "source": [
    "dict1 = {'key1' : [1, 2, 3],\n",
    "             'key2' : ['Akash', 'uday', 'mom']}\n",
    "\n",
    "print(dict(zip(dict1['key1'], dict1['key2'])))"
   ]
  },
  {
   "cell_type": "code",
   "execution_count": null,
   "metadata": {},
   "outputs": [],
   "source": [
    "5. insert at beginning of ordered dictionary python"
   ]
  },
  {
   "cell_type": "code",
   "execution_count": 24,
   "metadata": {},
   "outputs": [
    {
     "name": "stdout",
     "output_type": "stream",
     "text": [
      "OrderedDict([('A', '100'), ('B', '200'), ('C', '300'), ('D', '400')])\n",
      "OrderedDict([('D', '400'), ('A', '100'), ('B', '200'), ('C', '300')])\n"
     ]
    }
   ],
   "source": [
    " \n",
    "dic1 = OrderedDict([('A', '100'), ('B', '200'), ('C', '300')])\n",
    "\n",
    "dic1.update({\"D\": '400'})\n",
    "print(dic1)\n",
    "\n",
    "dic1.move_to_end(\"D\", last=False)\n",
    "print(dic1)"
   ]
  },
  {
   "cell_type": "code",
   "execution_count": 23,
   "metadata": {},
   "outputs": [
    {
     "name": "stdout",
     "output_type": "stream",
     "text": [
      "OrderedDict([('D', '400'), ('A', '100'), ('B', '200'), ('C', '300')])\n"
     ]
    }
   ],
   "source": [
    "\n",
    "dic1 = OrderedDict([('A', '100'), ('B', '200'), ('C', '300')])\n",
    "dic2 = OrderedDict([(\"D\", '400')])\n",
    "  \n",
    "dic3 = OrderedDict(list(dic2.items()) + list(dic1.items()))\n",
    "\n",
    "print(dic3)"
   ]
  },
  {
   "cell_type": "code",
   "execution_count": null,
   "metadata": {},
   "outputs": [],
   "source": [
    "6. order of character in string using OrderedDict"
   ]
  },
  {
   "cell_type": "code",
   "execution_count": 42,
   "metadata": {},
   "outputs": [
    {
     "name": "stdout",
     "output_type": "stream",
     "text": [
      "The order of pattern is correct\n"
     ]
    }
   ],
   "source": [
    "input1 = 'Akash'\n",
    "input2 = 'Ak'\n",
    "\n",
    "def check(input1, input2):\n",
    "    dict1 = OrderedDict.fromkeys(input1)\n",
    "    i = 0\n",
    "    for key,value in dict1.items():\n",
    "          if (key == input2[i]):\n",
    "                 i = i + 1\n",
    "          if (i == (len(input2))):\n",
    "                 return 'The order of pattern is correct'\n",
    "    return 'The order of pattern is incorrect'\n",
    "print(check(input1,input2))"
   ]
  },
  {
   "cell_type": "code",
   "execution_count": null,
   "metadata": {},
   "outputs": [],
   "source": [
    "7. Sort Python Dictionaries by Key or Value"
   ]
  },
  {
   "cell_type": "code",
   "execution_count": 53,
   "metadata": {},
   "outputs": [
    {
     "name": "stdout",
     "output_type": "stream",
     "text": [
      "{'A': '300', 'B': '500', 'C': '100'}\n"
     ]
    }
   ],
   "source": [
    "dic1 = OrderedDict([('C', '100'), ('B', '500'), ('A', '300')])\n",
    "dic2 = {key:value for key, value in sorted(dic1.items())}\n",
    "print(dic2)"
   ]
  },
  {
   "cell_type": "code",
   "execution_count": null,
   "metadata": {},
   "outputs": [],
   "source": []
  },
  {
   "cell_type": "code",
   "execution_count": null,
   "metadata": {},
   "outputs": [],
   "source": []
  },
  {
   "cell_type": "code",
   "execution_count": null,
   "metadata": {},
   "outputs": [],
   "source": []
  },
  {
   "cell_type": "code",
   "execution_count": null,
   "metadata": {},
   "outputs": [],
   "source": []
  },
  {
   "cell_type": "code",
   "execution_count": null,
   "metadata": {},
   "outputs": [],
   "source": []
  },
  {
   "cell_type": "code",
   "execution_count": null,
   "metadata": {},
   "outputs": [],
   "source": []
  },
  {
   "cell_type": "code",
   "execution_count": null,
   "metadata": {},
   "outputs": [],
   "source": []
  },
  {
   "cell_type": "code",
   "execution_count": null,
   "metadata": {},
   "outputs": [],
   "source": []
  },
  {
   "cell_type": "code",
   "execution_count": null,
   "metadata": {},
   "outputs": [],
   "source": []
  },
  {
   "cell_type": "code",
   "execution_count": null,
   "metadata": {},
   "outputs": [],
   "source": []
  },
  {
   "cell_type": "code",
   "execution_count": null,
   "metadata": {},
   "outputs": [],
   "source": []
  }
 ],
 "metadata": {
  "kernelspec": {
   "display_name": "Python 3",
   "language": "python",
   "name": "python3"
  },
  "language_info": {
   "codemirror_mode": {
    "name": "ipython",
    "version": 3
   },
   "file_extension": ".py",
   "mimetype": "text/x-python",
   "name": "python",
   "nbconvert_exporter": "python",
   "pygments_lexer": "ipython3",
   "version": "3.8.5"
  }
 },
 "nbformat": 4,
 "nbformat_minor": 4
}
