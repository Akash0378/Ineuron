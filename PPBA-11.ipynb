{
 "cells": [
  {
   "cell_type": "code",
   "execution_count": null,
   "metadata": {},
   "outputs": [],
   "source": [
    "1. words greater than the length."
   ]
  },
  {
   "cell_type": "code",
   "execution_count": 2,
   "metadata": {},
   "outputs": [
    {
     "name": "stdout",
     "output_type": "stream",
     "text": [
      "enter the string:Akash is good boy\n",
      "length:3\n",
      "Akash\n",
      "good\n"
     ]
    }
   ],
   "source": [
    "\n",
    "a=input(\"enter the string:\")\n",
    "n=int(input(\"length:\"))\n",
    "b=a.split(' ')\n",
    "for i in b:\n",
    "    if len(i) > n:\n",
    "        print(i)"
   ]
  },
  {
   "cell_type": "code",
   "execution_count": null,
   "metadata": {},
   "outputs": [],
   "source": [
    "2. remove ith character"
   ]
  },
  {
   "cell_type": "code",
   "execution_count": 8,
   "metadata": {},
   "outputs": [
    {
     "name": "stdout",
     "output_type": "stream",
     "text": [
      "enter the string:Bernadatte\n",
      "enter the ith character:3\n",
      "Benadatte\n"
     ]
    }
   ],
   "source": [
    "a=input(\"enter the string:\")\n",
    "n=int(input(\"enter the ith character:\"))\n",
    "b=a[:n-1]\n",
    "c=a[n:]\n",
    "a=b+c\n",
    "print(a)"
   ]
  },
  {
   "cell_type": "code",
   "execution_count": null,
   "metadata": {},
   "outputs": [],
   "source": [
    "3. split and join a string"
   ]
  },
  {
   "cell_type": "code",
   "execution_count": 10,
   "metadata": {},
   "outputs": [
    {
     "name": "stdout",
     "output_type": "stream",
     "text": [
      "enter the string:Big Bang Theory\n",
      "Big-Bang-Theory\n"
     ]
    }
   ],
   "source": [
    "a=input(\"enter the string:\")\n",
    "b=a.split(\" \")\n",
    "c=\"-\".join(b)\n",
    "print(c)"
   ]
  },
  {
   "cell_type": "code",
   "execution_count": null,
   "metadata": {},
   "outputs": [],
   "source": [
    "4. check string is binary or not"
   ]
  },
  {
   "cell_type": "code",
   "execution_count": 14,
   "metadata": {},
   "outputs": [
    {
     "name": "stdout",
     "output_type": "stream",
     "text": [
      "enter the string:1010100101010\n",
      "Binary string.\n"
     ]
    }
   ],
   "source": [
    "a= input(\"enter the string:\")\n",
    "b = {'0','1'}\n",
    "c = set(a)\n",
    "\n",
    "if b == c or c == {'0'} or c == {'1'}:\n",
    "    print(\"Binary string.\")\n",
    "else:\n",
    "    print(\"not a Binary string.\")"
   ]
  },
  {
   "cell_type": "code",
   "execution_count": null,
   "metadata": {},
   "outputs": [],
   "source": [
    "5. find uncommon words"
   ]
  },
  {
   "cell_type": "code",
   "execution_count": 20,
   "metadata": {},
   "outputs": [
    {
     "name": "stdout",
     "output_type": "stream",
     "text": [
      "enter the string1:sheldon is from big bang theory\n",
      "enter the string2:penny is from big bang theory\n",
      "['sheldon', 'penny']\n"
     ]
    }
   ],
   "source": [
    "a= input(\"enter the string1:\")\n",
    "b= input(\"enter the string2:\")\n",
    "dic = {}\n",
    "for i in a.split():\n",
    "        dic[i] = dic.get(i, 0) + 1\n",
    "for i in b.split():\n",
    "        dic[i] = dic.get(i, 0) + 1\n",
    "d = [i for i in dic if dic[i] == 1]\n",
    "print(d)\n",
    "    \n"
   ]
  },
  {
   "cell_type": "code",
   "execution_count": null,
   "metadata": {},
   "outputs": [],
   "source": [
    "6. duplicate character count"
   ]
  },
  {
   "cell_type": "code",
   "execution_count": 27,
   "metadata": {},
   "outputs": [
    {
     "name": "stdout",
     "output_type": "stream",
     "text": [
      "enter the string:Akash\n",
      "['a']\n"
     ]
    }
   ],
   "source": [
    "a= input(\"enter the string:\")\n",
    "a=a.lower()\n",
    "b = []\n",
    "for i in a:\n",
    "    if a.count(i) > 1:\n",
    "        if i not in b:\n",
    "            b.append(i)\n",
    "print(b)"
   ]
  },
  {
   "cell_type": "code",
   "execution_count": null,
   "metadata": {},
   "outputs": [],
   "source": [
    "7. special character"
   ]
  },
  {
   "cell_type": "code",
   "execution_count": 30,
   "metadata": {},
   "outputs": [
    {
     "name": "stdout",
     "output_type": "stream",
     "text": [
      "enter the string:jasd%$728sdqkj@\n",
      "has special characters.\n"
     ]
    }
   ],
   "source": [
    "import re\n",
    "a= input(\"enter the string:\")\n",
    "\n",
    "if(bool(re.match('^[a-zA-Z0-9]*$', a)) == True):\n",
    "    print('no special characters.')\n",
    "else:\n",
    "    print('has special characters.')"
   ]
  },
  {
   "cell_type": "code",
   "execution_count": null,
   "metadata": {},
   "outputs": [],
   "source": []
  },
  {
   "cell_type": "code",
   "execution_count": null,
   "metadata": {},
   "outputs": [],
   "source": []
  }
 ],
 "metadata": {
  "kernelspec": {
   "display_name": "Python 3",
   "language": "python",
   "name": "python3"
  },
  "language_info": {
   "codemirror_mode": {
    "name": "ipython",
    "version": 3
   },
   "file_extension": ".py",
   "mimetype": "text/x-python",
   "name": "python",
   "nbconvert_exporter": "python",
   "pygments_lexer": "ipython3",
   "version": "3.8.5"
  }
 },
 "nbformat": 4,
 "nbformat_minor": 4
}
