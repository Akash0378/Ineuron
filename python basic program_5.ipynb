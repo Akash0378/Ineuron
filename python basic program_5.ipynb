{
 "cells": [
  {
   "cell_type": "code",
   "execution_count": null,
   "metadata": {},
   "outputs": [],
   "source": [
    "1. LCM program"
   ]
  },
  {
   "cell_type": "code",
   "execution_count": 7,
   "metadata": {},
   "outputs": [
    {
     "name": "stdout",
     "output_type": "stream",
     "text": [
      "enter n1:150\n",
      "enter n2:200\n",
      "600\n"
     ]
    }
   ],
   "source": [
    "def lcm(x, y):\n",
    "    if x > y:\n",
    "        temp = x\n",
    "    else:\n",
    "        temp = y\n",
    "\n",
    "    while(True):\n",
    "        if((temp % x == 0) and (temp % y == 0)):\n",
    "            lcm = temp\n",
    "            break\n",
    "        temp += 1\n",
    "\n",
    "    return lcm\n",
    "\n",
    "n1 = int(input(\"enter n1:\"))\n",
    "n2 = int(input(\"enter n2:\"))\n",
    "\n",
    "print(lcm(n1,n2))"
   ]
  },
  {
   "cell_type": "code",
   "execution_count": null,
   "metadata": {},
   "outputs": [],
   "source": [
    "2. HCF program"
   ]
  },
  {
   "cell_type": "code",
   "execution_count": 10,
   "metadata": {},
   "outputs": [
    {
     "name": "stdout",
     "output_type": "stream",
     "text": [
      "enter n1:100\n",
      "enter n2:200\n",
      "100\n"
     ]
    }
   ],
   "source": [
    "def hcf(x, y):\n",
    "    if x > y:\n",
    "        temp = y\n",
    "    else:\n",
    "        temp = x\n",
    "    for i in range(1, temp+1):\n",
    "        if((x % i == 0) and (y % i == 0)):\n",
    "            hcf = i \n",
    "    return hcf\n",
    "\n",
    "n1 = int(input(\"enter n1:\"))\n",
    "n2 = int(input(\"enter n2:\"))\n",
    "\n",
    "print(hcf(n1, n2))"
   ]
  },
  {
   "cell_type": "code",
   "execution_count": null,
   "metadata": {},
   "outputs": [],
   "source": [
    "3. Decimal coversion to binary, octal, hexadecimal"
   ]
  },
  {
   "cell_type": "code",
   "execution_count": 13,
   "metadata": {},
   "outputs": [
    {
     "name": "stdout",
     "output_type": "stream",
     "text": [
      "enter n:10\n",
      "decimal value: 10\n",
      "binary: 0b1010\n",
      "octal: 0o12\n",
      "hexadecimal: 0xa\n"
     ]
    }
   ],
   "source": [
    "n = int(input(\"enter n:\"))\n",
    "print(\"decimal value:\",n)\n",
    "print(\"binary:\",bin(n))\n",
    "print(\"octal:\",oct(n))\n",
    "print(\"hexadecimal:\",hex(n))"
   ]
  },
  {
   "cell_type": "code",
   "execution_count": null,
   "metadata": {},
   "outputs": [],
   "source": [
    "4. ASCII value of a character"
   ]
  },
  {
   "cell_type": "code",
   "execution_count": 16,
   "metadata": {},
   "outputs": [
    {
     "name": "stdout",
     "output_type": "stream",
     "text": [
      "enter n:p\n",
      "ASCII value: 112\n"
     ]
    }
   ],
   "source": [
    "n = input(\"enter n:\")\n",
    "print(\"ASCII value:\",ord(n))"
   ]
  },
  {
   "cell_type": "code",
   "execution_count": null,
   "metadata": {},
   "outputs": [],
   "source": [
    "5. program for simple calculator"
   ]
  },
  {
   "cell_type": "code",
   "execution_count": null,
   "metadata": {},
   "outputs": [
    {
     "name": "stdout",
     "output_type": "stream",
     "text": [
      "Select operation.\n",
      "1.Add\n",
      "2.Subtract\n",
      "3.Multiply\n",
      "4.Divide\n",
      "Enter choice from (1/2/3/4): 3\n",
      "Enter first number: 10\n",
      "Enter second number: 20\n",
      "200.0\n",
      "wanna try again? (yes/no): yes\n",
      "Enter choice from (1/2/3/4): 3\n",
      "Enter first number: 10\n",
      "Enter second number: 20\n",
      "200.0\n",
      "wanna try again? (yes/no): yes\n",
      "Enter choice from (1/2/3/4): 4\n",
      "Enter first number: 10\n",
      "Enter second number: 20\n",
      "0.5\n"
     ]
    }
   ],
   "source": [
    "print(\"Select operation.\")\n",
    "print(\"1.Add\")\n",
    "print(\"2.Subtract\")\n",
    "print(\"3.Multiply\")\n",
    "print(\"4.Divide\")\n",
    "l=['1', '2', '3', '4']\n",
    "while(True):\n",
    "    choice = input(\"Enter choice from (1/2/3/4): \")\n",
    "    if choice in l:\n",
    "        n1 = float(input(\"Enter first number: \"))\n",
    "        n2 = float(input(\"Enter second number: \"))\n",
    "        if choice == '1':\n",
    "            print(n1+n2)\n",
    "        elif choice == '2':\n",
    "            print(n1-n2)\n",
    "        elif choice == '3':\n",
    "            print(n1*n2)\n",
    "        elif choice == '4':\n",
    "            print(n1/n2)\n",
    "        one_more = input(\"wanna try again? (yes/no): \")\n",
    "        if one_more == \"no\":\n",
    "            break\n",
    "    else:\n",
    "        print(\"Invalid Input\")"
   ]
  },
  {
   "cell_type": "code",
   "execution_count": null,
   "metadata": {},
   "outputs": [],
   "source": []
  }
 ],
 "metadata": {
  "kernelspec": {
   "display_name": "Python 3",
   "language": "python",
   "name": "python3"
  },
  "language_info": {
   "codemirror_mode": {
    "name": "ipython",
    "version": 3
   },
   "file_extension": ".py",
   "mimetype": "text/x-python",
   "name": "python",
   "nbconvert_exporter": "python",
   "pygments_lexer": "ipython3",
   "version": "3.8.5"
  }
 },
 "nbformat": 4,
 "nbformat_minor": 4
}
