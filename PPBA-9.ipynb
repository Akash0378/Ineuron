{
 "cells": [
  {
   "cell_type": "code",
   "execution_count": null,
   "metadata": {},
   "outputs": [],
   "source": [
    "1. Disarium number"
   ]
  },
  {
   "cell_type": "code",
   "execution_count": 2,
   "metadata": {},
   "outputs": [
    {
     "name": "stdout",
     "output_type": "stream",
     "text": [
      "enter number:175\n",
      "disarium number\n"
     ]
    }
   ],
   "source": [
    "n = int(input(\"enter number:\"));    \n",
    "sum = 0;    \n",
    "length = len(str(n));      \n",
    "temp = n;    \n",
    "  \n",
    "while(n > 0):    \n",
    "    temp1 = n%10;    \n",
    "    sum += int(temp1**length);    \n",
    "    n //= 10;    \n",
    "    length -= 1;    \n",
    "      \n",
    "if(sum == temp):    \n",
    "    print(\"disarium number\");    \n",
    "else:    \n",
    "    print(\"not a disarium number\");  "
   ]
  },
  {
   "cell_type": "code",
   "execution_count": null,
   "metadata": {},
   "outputs": [],
   "source": [
    "2. Disarium number b/w 1 to 100"
   ]
  },
  {
   "cell_type": "code",
   "execution_count": 3,
   "metadata": {},
   "outputs": [
    {
     "name": "stdout",
     "output_type": "stream",
     "text": [
      "1\n",
      "2\n",
      "3\n",
      "4\n",
      "5\n",
      "6\n",
      "7\n",
      "8\n",
      "9\n",
      "89\n"
     ]
    }
   ],
   "source": [
    "def calculate(n):  \n",
    "    sum = 0;  \n",
    "    length = len(str(n));    \n",
    "    while(n > 0):    \n",
    "        temp1 = n%10;    \n",
    "        sum += int(temp1**length);    \n",
    "        n //= 10;    \n",
    "        length -= 1;     \n",
    "    return sum;  \n",
    "    \n",
    "sum = 0; \n",
    "for i in range(1, 101):  \n",
    "    sum = calculate(i);    \n",
    "    if(sum == i):  \n",
    "        print(i),  "
   ]
  },
  {
   "cell_type": "code",
   "execution_count": null,
   "metadata": {},
   "outputs": [],
   "source": [
    "3. Happy Number"
   ]
  },
  {
   "cell_type": "code",
   "execution_count": 4,
   "metadata": {},
   "outputs": [
    {
     "name": "stdout",
     "output_type": "stream",
     "text": [
      "enter number:89\n",
      "not a happy number\n"
     ]
    }
   ],
   "source": [
    "def check(n):    \n",
    "    sum = 0;      \n",
    "    while(n > 0):    \n",
    "        temp = n%10;    \n",
    "        sum += (temp*temp);    \n",
    "        n //= 10;    \n",
    "    return sum;    \n",
    "        \n",
    "n = int(input(\"enter number:\"));       \n",
    "temp = n;    \n",
    "     \n",
    "while(temp != 1 and temp != 4):    \n",
    "    temp = check(temp);\n",
    "\n",
    "if(temp == 1):    \n",
    "    print(\"happy number\")   \n",
    "elif(temp == 4):    \n",
    "    print(\"not a happy number\"); "
   ]
  },
  {
   "cell_type": "code",
   "execution_count": null,
   "metadata": {},
   "outputs": [],
   "source": [
    "4. Happy number b/w 1 to 100"
   ]
  },
  {
   "cell_type": "code",
   "execution_count": 5,
   "metadata": {},
   "outputs": [
    {
     "name": "stdout",
     "output_type": "stream",
     "text": [
      "1\n",
      "7\n",
      "10\n",
      "13\n",
      "19\n",
      "23\n",
      "28\n",
      "31\n",
      "32\n",
      "44\n",
      "49\n",
      "68\n",
      "70\n",
      "79\n",
      "82\n",
      "86\n",
      "91\n",
      "94\n",
      "97\n",
      "100\n"
     ]
    }
   ],
   "source": [
    "def check(n):    \n",
    "    sum = 0;      \n",
    "    while(n > 0):    \n",
    "        temp = n%10;    \n",
    "        sum += (temp*temp);    \n",
    "        n //= 10;    \n",
    "    return sum;    \n",
    "            \n",
    "for i in range(1, 101):    \n",
    "    temp = i;    \n",
    "    while(temp != 1 and temp != 4):    \n",
    "        temp = check(temp);       \n",
    "    if(temp == 1):    \n",
    "        print(i)    "
   ]
  },
  {
   "cell_type": "code",
   "execution_count": null,
   "metadata": {},
   "outputs": [],
   "source": [
    "5. Harshad Number"
   ]
  },
  {
   "cell_type": "code",
   "execution_count": 6,
   "metadata": {},
   "outputs": [
    {
     "name": "stdout",
     "output_type": "stream",
     "text": [
      "enter the number:156\n",
      "harshad number\n"
     ]
    }
   ],
   "source": [
    "n=int(input(\"enter the number:\"));    \n",
    "sum = 0;       \n",
    "temp = n;    \n",
    "   \n",
    "while(temp > 0):    \n",
    "    temp1 = temp%10;    \n",
    "    sum += temp1;    \n",
    "    temp//= 10;    \n",
    "     \n",
    "if(n%sum == 0):    \n",
    "    print(\"harshad number\");    \n",
    "else:    \n",
    "    print(\"not a harshad number\");"
   ]
  },
  {
   "cell_type": "code",
   "execution_count": null,
   "metadata": {},
   "outputs": [],
   "source": [
    "6. pronic numbers 1 to 100"
   ]
  },
  {
   "cell_type": "code",
   "execution_count": 8,
   "metadata": {},
   "outputs": [
    {
     "name": "stdout",
     "output_type": "stream",
     "text": [
      "2\n",
      "6\n",
      "12\n",
      "20\n",
      "30\n",
      "42\n",
      "56\n",
      "72\n",
      "90\n"
     ]
    }
   ],
   "source": [
    "def check(n):    \n",
    "    temp = False;        \n",
    "    for i in range(1, n+1):      \n",
    "        if((i*(i+1)) == n):    \n",
    "            temp = True;    \n",
    "            break;    \n",
    "    return temp;    \n",
    "   \n",
    "for i in range(1, 101):    \n",
    "    if(check(i)):    \n",
    "        print(i)   "
   ]
  },
  {
   "cell_type": "code",
   "execution_count": null,
   "metadata": {},
   "outputs": [],
   "source": []
  },
  {
   "cell_type": "code",
   "execution_count": null,
   "metadata": {},
   "outputs": [],
   "source": []
  },
  {
   "cell_type": "code",
   "execution_count": null,
   "metadata": {},
   "outputs": [],
   "source": []
  }
 ],
 "metadata": {
  "kernelspec": {
   "display_name": "Python 3",
   "language": "python",
   "name": "python3"
  }
 },
 "nbformat": 4,
 "nbformat_minor": 4
}
