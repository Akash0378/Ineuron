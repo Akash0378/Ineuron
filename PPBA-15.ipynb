{
 "cells": [
  {
   "cell_type": "code",
   "execution_count": null,
   "metadata": {},
   "outputs": [],
   "source": [
    "1."
   ]
  },
  {
   "cell_type": "code",
   "execution_count": 11,
   "metadata": {},
   "outputs": [
    {
     "name": "stdout",
     "output_type": "stream",
     "text": [
      "enter the range:100\n",
      "0,35,70\n"
     ]
    }
   ],
   "source": [
    "def output(n):\n",
    "    for i in range(n):\n",
    "        if(i%5 == 0 and i%7 == 0):\n",
    "            yield i\n",
    "n =int(input(\"enter the range:\"))\n",
    "l=[]\n",
    "for i in output(n):\n",
    "    l.append(str(i))\n",
    "a = ','.join(l)\n",
    "print(a)"
   ]
  },
  {
   "cell_type": "code",
   "execution_count": null,
   "metadata": {},
   "outputs": [],
   "source": [
    "2."
   ]
  },
  {
   "cell_type": "code",
   "execution_count": 13,
   "metadata": {},
   "outputs": [
    {
     "name": "stdout",
     "output_type": "stream",
     "text": [
      "enter the range:10\n",
      "0,2,4,6,8,10\n"
     ]
    }
   ],
   "source": [
    "def output(n):\n",
    "    for i in range(n+1):\n",
    "        if(i%2 == 0):\n",
    "            yield i\n",
    "n =int(input(\"enter the range:\"))\n",
    "l=[]\n",
    "for i in output(n):\n",
    "    l.append(str(i))\n",
    "a = ','.join(l)\n",
    "print(a)"
   ]
  },
  {
   "cell_type": "code",
   "execution_count": null,
   "metadata": {},
   "outputs": [],
   "source": [
    "3."
   ]
  },
  {
   "cell_type": "code",
   "execution_count": 27,
   "metadata": {},
   "outputs": [
    {
     "name": "stdout",
     "output_type": "stream",
     "text": [
      "enter number:1\n",
      "0\n"
     ]
    }
   ],
   "source": [
    "def output(n,n1,n2):\n",
    "    l=[]\n",
    "    i =0\n",
    "    if(n == 0):\n",
    "        print(\"enter correct value\")\n",
    "    elif(n == 1):\n",
    "        l.append(str(n1))\n",
    "        return l\n",
    "    else:\n",
    "        while(i < n):\n",
    "            l.append(str(n1))\n",
    "            temp = n1+n2\n",
    "            n1 = n2\n",
    "            n2 = temp\n",
    "            i+=1\n",
    "    return l\n",
    "\n",
    "n =int(input(\"enter number:\"))\n",
    "n1 = 0\n",
    "n2 = 1\n",
    "l = output(n,n1,n2)\n",
    "a = ','.join(l)\n",
    "print(a)"
   ]
  },
  {
   "cell_type": "code",
   "execution_count": null,
   "metadata": {},
   "outputs": [],
   "source": [
    "4."
   ]
  },
  {
   "cell_type": "code",
   "execution_count": 30,
   "metadata": {},
   "outputs": [
    {
     "name": "stdout",
     "output_type": "stream",
     "text": [
      "enter the email address:akash@gamil.com\n",
      "akash\n"
     ]
    }
   ],
   "source": [
    "a = input(\"enter the email address:\")\n",
    "b = a.split('@')\n",
    "print(b[0])"
   ]
  },
  {
   "cell_type": "code",
   "execution_count": null,
   "metadata": {},
   "outputs": [],
   "source": [
    "5."
   ]
  },
  {
   "cell_type": "code",
   "execution_count": 33,
   "metadata": {},
   "outputs": [
    {
     "name": "stdout",
     "output_type": "stream",
     "text": [
      "0\n"
     ]
    }
   ],
   "source": [
    "class shape:\n",
    "    def area(self):\n",
    "        return 0\n",
    "    \n",
    "class square(shape):\n",
    "    def __init__(self,l):\n",
    "        self.l = l\n",
    "        \n",
    "    def area(self):\n",
    "        return 0\n",
    "l=10\n",
    "obj1 = square(l)\n",
    "print(obj1.area())"
   ]
  },
  {
   "cell_type": "code",
   "execution_count": null,
   "metadata": {},
   "outputs": [],
   "source": []
  },
  {
   "cell_type": "code",
   "execution_count": null,
   "metadata": {},
   "outputs": [],
   "source": []
  },
  {
   "cell_type": "code",
   "execution_count": null,
   "metadata": {},
   "outputs": [],
   "source": []
  },
  {
   "cell_type": "code",
   "execution_count": null,
   "metadata": {},
   "outputs": [],
   "source": []
  },
  {
   "cell_type": "code",
   "execution_count": null,
   "metadata": {},
   "outputs": [],
   "source": []
  },
  {
   "cell_type": "code",
   "execution_count": null,
   "metadata": {},
   "outputs": [],
   "source": []
  }
 ],
 "metadata": {
  "kernelspec": {
   "display_name": "Python 3",
   "language": "python",
   "name": "python3"
  },
  "language_info": {
   "codemirror_mode": {
    "name": "ipython",
    "version": 3
   },
   "file_extension": ".py",
   "mimetype": "text/x-python",
   "name": "python",
   "nbconvert_exporter": "python",
   "pygments_lexer": "ipython3",
   "version": "3.8.5"
  }
 },
 "nbformat": 4,
 "nbformat_minor": 4
}
