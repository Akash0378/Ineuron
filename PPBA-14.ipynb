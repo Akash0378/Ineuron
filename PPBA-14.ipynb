{
 "cells": [
  {
   "cell_type": "code",
   "execution_count": null,
   "metadata": {},
   "outputs": [],
   "source": [
    "1."
   ]
  },
  {
   "cell_type": "code",
   "execution_count": 24,
   "metadata": {},
   "outputs": [
    {
     "data": {
      "text/plain": [
       "[0, 7, 14, 21, 28, 35, 42, 49, 56, 63]"
      ]
     },
     "execution_count": 24,
     "metadata": {},
     "output_type": "execute_result"
    }
   ],
   "source": [
    "class check:\n",
    "    def __init__(self, n):\n",
    "        self.n = n\n",
    "        \n",
    "    def output(self):\n",
    "        l = []\n",
    "        for i in self.iterator():\n",
    "            l.append(i)\n",
    "        return l;\n",
    "    \n",
    "    def iterator(self):\n",
    "        for i in range(self.n):\n",
    "            if(i % 7 == 0):\n",
    "                yield i\n",
    "                \n",
    "obj1 = check(70)\n",
    "obj1.output()"
   ]
  },
  {
   "cell_type": "code",
   "execution_count": 10,
   "metadata": {},
   "outputs": [],
   "source": [
    "2."
   ]
  },
  {
   "cell_type": "code",
   "execution_count": 44,
   "metadata": {},
   "outputs": [
    {
     "name": "stdout",
     "output_type": "stream",
     "text": [
      "enter the string:New to python or choosing between python 2 and python 3? Read python 2 or python 3\n",
      "2:2\n",
      "3:2\n",
      "3?:1\n",
      "New:1\n",
      "Read:1\n",
      "and:1\n",
      "between:1\n",
      "choosing:1\n",
      "or:2\n",
      "python:5\n",
      "to:1\n"
     ]
    }
   ],
   "source": [
    "\n",
    "class frequency:\n",
    "    def output(self, s):\n",
    "        str1 = s.split()\n",
    "        final = []\n",
    "        for i in str1:\n",
    "            if i not in final:\n",
    "                final.append(i)\n",
    "        final.sort()  \n",
    "        for i in range(len(final)):\n",
    "            print(f\"{final[i]}:{s.count(final[i])}\")\n",
    "\n",
    "a = input(\"enter the string:\")\n",
    "obj1 = frequency()\n",
    "obj1.output(a)"
   ]
  },
  {
   "cell_type": "code",
   "execution_count": null,
   "metadata": {},
   "outputs": [],
   "source": [
    "New to python or choosing between python 2 and python 3? Read python 2 or python 3"
   ]
  },
  {
   "cell_type": "code",
   "execution_count": null,
   "metadata": {},
   "outputs": [],
   "source": [
    "3."
   ]
  },
  {
   "cell_type": "code",
   "execution_count": 48,
   "metadata": {},
   "outputs": [
    {
     "name": "stdout",
     "output_type": "stream",
     "text": [
      "Male class\n",
      "Female class\n"
     ]
    }
   ],
   "source": [
    "class person:\n",
    "    pass\n",
    "\n",
    "class Male(person):\n",
    "    def getgender(self):\n",
    "        print(\"Male class\")\n",
    "class Female(person):\n",
    "    def getgender(self):\n",
    "        print(\"Female class\")\n",
    "        \n",
    "p1 = Male()\n",
    "p2 = Female()\n",
    "p1.getgender()\n",
    "p2.getgender()"
   ]
  },
  {
   "cell_type": "code",
   "execution_count": null,
   "metadata": {},
   "outputs": [],
   "source": [
    "4. "
   ]
  },
  {
   "cell_type": "code",
   "execution_count": 49,
   "metadata": {},
   "outputs": [
    {
     "name": "stdout",
     "output_type": "stream",
     "text": [
      "I play hockey\n",
      "I play football\n",
      "I love hockey\n",
      "I love football\n",
      "you play hockey\n",
      "you play football\n",
      "you love hockey\n",
      "you love football\n"
     ]
    }
   ],
   "source": [
    "subject = ['I', 'you']\n",
    "verb = ['play', 'love']\n",
    "objects = ['hockey', 'football']\n",
    "\n",
    "a = [(i +\" \" + j + \" \"+ k) for i in subject for j in verb for k in objects]\n",
    "for i in a:\n",
    "    print(i)"
   ]
  },
  {
   "cell_type": "code",
   "execution_count": null,
   "metadata": {},
   "outputs": [],
   "source": [
    "6.Binary search"
   ]
  },
  {
   "cell_type": "code",
   "execution_count": 63,
   "metadata": {},
   "outputs": [
    {
     "name": "stdout",
     "output_type": "stream",
     "text": [
      "element to search:30\n",
      "index:5\n"
     ]
    }
   ],
   "source": [
    "def b_search(l, low, high, a):\n",
    "    if high >= low:\n",
    "        mid = (high+low)//2\n",
    "        \n",
    "        if l[mid] == a:\n",
    "            return mid\n",
    "        elif l[mid] >=a:\n",
    "            return b_search(l, low, mid-1, a)\n",
    "        else:\n",
    "            return b_search(l, mid+1, high, a)\n",
    "    else:\n",
    "        return -1\n",
    "\n",
    "l =[1, 2, 7, 9, 10, 30]\n",
    "a = int(input(\"element to search:\"))\n",
    "x = b_search(l, 0, len(l)-1, a)\n",
    "if x !=-1:\n",
    "    print(f\"index:{x}\")\n",
    "else:\n",
    "    print(\"not present\")"
   ]
  },
  {
   "cell_type": "code",
   "execution_count": null,
   "metadata": {},
   "outputs": [],
   "source": [
    "5."
   ]
  },
  {
   "cell_type": "code",
   "execution_count": 6,
   "metadata": {},
   "outputs": [
    {
     "name": "stdout",
     "output_type": "stream",
     "text": [
      "hel2o world!hel2o world!hel2o world!hel2o world!\n"
     ]
    }
   ],
   "source": [
    "def output(a):\n",
    "   result = \"\"\n",
    "   count = 1\n",
    "   b = a\n",
    "   for i in range(1, len(b)):\n",
    "      if b[i - 1] == b[i]:\n",
    "         count+= 1\n",
    "      else:\n",
    "         result = result + b[i - 1]\n",
    "         if count > 1:\n",
    "            result += str(count)\n",
    "         count = 1\n",
    "   result = result + b[-1]\n",
    "   if count > 1:\n",
    "      result += str(count)\n",
    "   return result\n",
    "\n",
    "a = 'hello world!hello world!hello world!hello world!'\n",
    "print(output(a))"
   ]
  },
  {
   "cell_type": "code",
   "execution_count": null,
   "metadata": {},
   "outputs": [],
   "source": []
  },
  {
   "cell_type": "code",
   "execution_count": null,
   "metadata": {},
   "outputs": [],
   "source": []
  },
  {
   "cell_type": "code",
   "execution_count": null,
   "metadata": {},
   "outputs": [],
   "source": []
  }
 ],
 "metadata": {
  "kernelspec": {
   "display_name": "Python 3",
   "language": "python",
   "name": "python3"
  },
  "language_info": {
   "codemirror_mode": {
    "name": "ipython",
    "version": 3
   },
   "file_extension": ".py",
   "mimetype": "text/x-python",
   "name": "python",
   "nbconvert_exporter": "python",
   "pygments_lexer": "ipython3",
   "version": "3.8.5"
  }
 },
 "nbformat": 4,
 "nbformat_minor": 4
}
